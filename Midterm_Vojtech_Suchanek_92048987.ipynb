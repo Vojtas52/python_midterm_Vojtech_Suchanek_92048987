{
 "cells": [
  {
   "cell_type": "markdown",
   "id": "7fa10c2a",
   "metadata": {},
   "source": [
    "## Midterm Vojtěch Suchánek"
   ]
  },
  {
   "cell_type": "markdown",
   "id": "28fc0570",
   "metadata": {},
   "source": [
    "## Problem 1"
   ]
  },
  {
   "cell_type": "code",
   "execution_count": 51,
   "id": "68e9f75c",
   "metadata": {},
   "outputs": [],
   "source": [
    "#loading libraries\n",
    "\n",
    "import pandas as pd\n",
    "import requests\n",
    "import numpy as np\n",
    "import json\n",
    "import time"
   ]
  },
  {
   "cell_type": "code",
   "execution_count": 52,
   "id": "ebf879c8",
   "metadata": {},
   "outputs": [
    {
     "name": "stdout",
     "output_type": "stream",
     "text": [
      "200\n"
     ]
    }
   ],
   "source": [
    "#getting the post response\n",
    "api_url = \"https://ies-midterm.soulution.rocks/login\"\n",
    "\n",
    "payload = {\"cuni\":\"92048987\"}\n",
    "\n",
    "post_response = requests.post(api_url, json = payload)\n",
    "\n",
    "print(post_response.status_code)"
   ]
  },
  {
   "cell_type": "code",
   "execution_count": 53,
   "id": "59d99639",
   "metadata": {},
   "outputs": [
    {
     "data": {
      "text/plain": [
       "'{\"data\": {\"personal_code\": \"a2a07902\", \"dataset_ids\": [\"779ce2818b\", \"f36bd332b4\", \"24f88cb68c\", \"fc1e690fcf\", \"8c34bdfc03\", \"aab8ba99c2\"]}, \"message\": \"Hello, Such\\\\u00e1nek Vojt\\\\u011bch, Bc! Good luck with the midterm. GET your data set from /data/file_id endpoint; use the codes you received in the data response as the file_id parameter! Print the personal code in your notebook.\"}'"
      ]
     },
     "execution_count": 53,
     "metadata": {},
     "output_type": "execute_result"
    }
   ],
   "source": [
    "post_response.text"
   ]
  },
  {
   "cell_type": "code",
   "execution_count": 54,
   "id": "6fa40bb8",
   "metadata": {},
   "outputs": [
    {
     "name": "stdout",
     "output_type": "stream",
     "text": [
      "This is my personal code: a2a07902\n"
     ]
    }
   ],
   "source": [
    "#getting my personal code\n",
    "x = json.loads(post_response.text)\n",
    "\n",
    "personal_code = x['data']['personal_code']\n",
    "\n",
    "print(f'This is my personal code: {personal_code}')"
   ]
  },
  {
   "cell_type": "code",
   "execution_count": 55,
   "id": "4b65c2c2",
   "metadata": {},
   "outputs": [],
   "source": [
    "#getting the id's\n",
    "ids = x['data']['dataset_ids']"
   ]
  },
  {
   "cell_type": "code",
   "execution_count": 57,
   "id": "4d55dcb4",
   "metadata": {},
   "outputs": [
    {
     "name": "stdout",
     "output_type": "stream",
     "text": [
      "503\n",
      "503\n",
      "200\n",
      "200\n",
      "200\n",
      "200\n",
      "200\n",
      "200\n"
     ]
    }
   ],
   "source": [
    "#getting data from api for each id and saving it in responses\n",
    "#initially I have done it in for loop, but had problems with storing it durring the loop, so I decided to make it this \"dumb\" way\n",
    "get_url = f'https://ies-midterm.soulution.rocks/data/{ids[0]}'\n",
    "status_code = 0\n",
    "while status_code != 200:\n",
    "    x = requests.get(get_url)\n",
    "    status_code = x.status_code\n",
    "    print(status_code)\n",
    "    time.sleep(1)\n",
    "\n",
    "response_1 = json.loads(x.text)\n",
    "\n",
    "get_url = f'https://ies-midterm.soulution.rocks/data/{ids[1]}'\n",
    "status_code = 0\n",
    "while status_code != 200:\n",
    "    x = requests.get(get_url)\n",
    "    status_code = x.status_code\n",
    "    print(status_code)\n",
    "    time.sleep(1)\n",
    "\n",
    "response_2 = json.loads(x.text)\n",
    "\n",
    "get_url = f'https://ies-midterm.soulution.rocks/data/{ids[2]}'\n",
    "status_code = 0\n",
    "while status_code != 200:\n",
    "    x = requests.get(get_url)\n",
    "    status_code = x.status_code\n",
    "    print(status_code)\n",
    "    time.sleep(1)\n",
    "\n",
    "response_3 = json.loads(x.text)\n",
    "\n",
    "get_url = f'https://ies-midterm.soulution.rocks/data/{ids[3]}'\n",
    "status_code = 0\n",
    "while status_code != 200:\n",
    "    x = requests.get(get_url)\n",
    "    status_code = x.status_code\n",
    "    print(status_code)\n",
    "    time.sleep(1)\n",
    "\n",
    "response_4 = json.loads(x.text)\n",
    "\n",
    "get_url = f'https://ies-midterm.soulution.rocks/data/{ids[4]}'\n",
    "status_code = 0\n",
    "while status_code != 200:\n",
    "    x = requests.get(get_url)\n",
    "    status_code = x.status_code\n",
    "    print(status_code)\n",
    "    time.sleep(1)\n",
    "\n",
    "response_5 = json.loads(x.text)\n",
    "\n",
    "get_url = f'https://ies-midterm.soulution.rocks/data/{ids[5]}'\n",
    "status_code = 0\n",
    "while status_code != 200:\n",
    "    x = requests.get(get_url)\n",
    "    status_code = x.status_code\n",
    "    print(status_code)\n",
    "    time.sleep(1)\n",
    "\n",
    "response_6 = json.loads(x.text)"
   ]
  },
  {
   "cell_type": "markdown",
   "id": "5ec06e95",
   "metadata": {},
   "source": [
    "## Problem 2"
   ]
  },
  {
   "cell_type": "code",
   "execution_count": 62,
   "id": "43caa739",
   "metadata": {},
   "outputs": [
    {
     "data": {
      "text/html": [
       "<div>\n",
       "<style scoped>\n",
       "    .dataframe tbody tr th:only-of-type {\n",
       "        vertical-align: middle;\n",
       "    }\n",
       "\n",
       "    .dataframe tbody tr th {\n",
       "        vertical-align: top;\n",
       "    }\n",
       "\n",
       "    .dataframe thead th {\n",
       "        text-align: right;\n",
       "    }\n",
       "</style>\n",
       "<table border=\"1\" class=\"dataframe\">\n",
       "  <thead>\n",
       "    <tr style=\"text-align: right;\">\n",
       "      <th></th>\n",
       "      <th>0</th>\n",
       "      <th>1</th>\n",
       "      <th>2</th>\n",
       "      <th>3</th>\n",
       "      <th>4</th>\n",
       "      <th>5</th>\n",
       "      <th>6</th>\n",
       "    </tr>\n",
       "  </thead>\n",
       "  <tbody>\n",
       "    <tr>\n",
       "      <th>0</th>\n",
       "      <td>2020-06-26</td>\n",
       "      <td>16.0</td>\n",
       "      <td>19.0</td>\n",
       "      <td>15.0600004196167</td>\n",
       "      <td>19.0</td>\n",
       "      <td>19.0</td>\n",
       "      <td>2666664</td>\n",
       "    </tr>\n",
       "    <tr>\n",
       "      <th>1</th>\n",
       "      <td>2020-06-29</td>\n",
       "      <td>19.200000762939453</td>\n",
       "      <td>19.450000762939453</td>\n",
       "      <td>17.799999237060547</td>\n",
       "      <td>18.989999771118164</td>\n",
       "      <td>18.989999771118164</td>\n",
       "      <td>367073</td>\n",
       "    </tr>\n",
       "    <tr>\n",
       "      <th>2</th>\n",
       "      <td>2020-06-30</td>\n",
       "      <td>18.100000381469727</td>\n",
       "      <td>18.950000762939453</td>\n",
       "      <td>17.799999237060547</td>\n",
       "      <td>18.030000686645508</td>\n",
       "      <td>18.030000686645508</td>\n",
       "      <td>107545</td>\n",
       "    </tr>\n",
       "    <tr>\n",
       "      <th>3</th>\n",
       "      <td>2020-07-01</td>\n",
       "      <td>17.989999771118164</td>\n",
       "      <td>18.0</td>\n",
       "      <td>16.510000228881836</td>\n",
       "      <td>16.579999923706055</td>\n",
       "      <td>16.579999923706055</td>\n",
       "      <td>135184</td>\n",
       "    </tr>\n",
       "    <tr>\n",
       "      <th>4</th>\n",
       "      <td>2020-07-02</td>\n",
       "      <td>16.780000686645508</td>\n",
       "      <td>17.840299606323242</td>\n",
       "      <td>16.600000381469727</td>\n",
       "      <td>17.329999923706055</td>\n",
       "      <td>17.329999923706055</td>\n",
       "      <td>71682</td>\n",
       "    </tr>\n",
       "  </tbody>\n",
       "</table>\n",
       "</div>"
      ],
      "text/plain": [
       "            0                   1                   2                   3  \\\n",
       "0  2020-06-26                16.0                19.0    15.0600004196167   \n",
       "1  2020-06-29  19.200000762939453  19.450000762939453  17.799999237060547   \n",
       "2  2020-06-30  18.100000381469727  18.950000762939453  17.799999237060547   \n",
       "3  2020-07-01  17.989999771118164                18.0  16.510000228881836   \n",
       "4  2020-07-02  16.780000686645508  17.840299606323242  16.600000381469727   \n",
       "\n",
       "                    4                   5        6  \n",
       "0                19.0                19.0  2666664  \n",
       "1  18.989999771118164  18.989999771118164   367073  \n",
       "2  18.030000686645508  18.030000686645508   107545  \n",
       "3  16.579999923706055  16.579999923706055   135184  \n",
       "4  17.329999923706055  17.329999923706055    71682  "
      ]
     },
     "execution_count": 62,
     "metadata": {},
     "output_type": "execute_result"
    }
   ],
   "source": [
    "#creating DataFrame with the obtained data\n",
    "data_1 = pd.DataFrame(response_1['data']['data'])\n",
    "data_2 = pd.DataFrame(response_2['data']['data'])\n",
    "data_3 = pd.DataFrame(response_3['data']['data'])\n",
    "data_4 = pd.DataFrame(response_4['data']['data'])\n",
    "data_5 = pd.DataFrame(response_5['data']['data'])\n",
    "data_6 = pd.DataFrame(response_6['data']['data'])\n",
    "\n",
    "data = pd.concat([data_1, data_2, data_3, data_4, data_5, data_6], axis=0)\n",
    "data.head()"
   ]
  }
 ],
 "metadata": {
  "kernelspec": {
   "display_name": "Python 3",
   "language": "python",
   "name": "python3"
  },
  "language_info": {
   "codemirror_mode": {
    "name": "ipython",
    "version": 3
   },
   "file_extension": ".py",
   "mimetype": "text/x-python",
   "name": "python",
   "nbconvert_exporter": "python",
   "pygments_lexer": "ipython3",
   "version": "3.8.8"
  }
 },
 "nbformat": 4,
 "nbformat_minor": 5
}
